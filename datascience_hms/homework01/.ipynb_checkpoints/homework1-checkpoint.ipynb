{
 "cells": [
  {
   "cell_type": "markdown",
   "metadata": {},
   "source": [
    "### pandas load csv file"
   ]
  },
  {
   "cell_type": "code",
   "execution_count": 22,
   "metadata": {},
   "outputs": [],
   "source": [
    "import pandas as pd\n",
    "import math\n",
    "import numpy as np\n",
    "import matplotlib.pyplot as plt\n",
    "import sys\n",
    "from scipy.stats import entropy"
   ]
  },
  {
   "cell_type": "code",
   "execution_count": 57,
   "metadata": {},
   "outputs": [
    {
     "name": "stdout",
     "output_type": "stream",
     "text": [
      "The correlation coef. of Z scores 1 2  are : -0.11756978413300198\n",
      "The correlation coef. of Z scores 1 3  are : 0.8717537758865832\n",
      "The correlation coef. of Z scores 1 4  are : 0.8179421748583491\n",
      "The correlation coef. of Z scores 2 3  are : -0.42844010433054\n",
      "The correlation coef. of Z scores 2 4  are : -0.36543079410332724\n",
      "The correlation coef. of Z scores 3 4  are : 0.962746024623647\n"
     ]
    }
   ],
   "source": [
    "# Good for load small dataset\n",
    "data = pd.read_csv('data-film.csv', encoding='utf-8', header=0)\n",
    "f = open('data-film.csv', 'r')\n",
    "lines = [line.strip('\\n').split(',') for line in f][1:151]\n",
    "\n",
    "# n is the number of samples\n",
    "n = data['FILM_ID'].count()\n",
    "\n",
    "# get list of features\n",
    "f = open('data-film.csv', 'r')\n",
    "features = [line.strip('\\n').split(',') for line in f][0:1][0][1:5]\n",
    "\n",
    "Z_Scores = []\n",
    "feature_no = 1 # starting point of feature labels\n",
    "\n",
    "for feature in features:\n",
    "    SUM = 0\n",
    "    sum_of_diff_sq = 0\n",
    "    Z_Score = []\n",
    "\n",
    "    # find sample sum and sample mean\n",
    "    for film in lines:\n",
    "        SUM += float(film[feature_no])\n",
    "    mean = SUM / n\n",
    "\n",
    "    # find sample variance and standard deviation\n",
    "    for film in lines:\n",
    "        sum_of_diff_sq += (float(film[feature_no]) - mean) * (float(film[feature_no]) - mean)\n",
    "#     print(sum_of_diff_sq)\n",
    "    variance = sum_of_diff_sq / (n - 1)\n",
    "    std_dev = math.sqrt(variance)\n",
    "\n",
    "    for film in lines:\n",
    "        Z_Score.append((float(film[feature_no]) - mean) / std_dev)\n",
    "    Z_Scores.append(Z_Score)\n",
    "\n",
    "    # proceed to the next feature\n",
    "    feature_no = feature_no + 1\n",
    "\n",
    "for i in range(0,len(features)):\n",
    "    for j in range(0,len(features)):\n",
    "        if i < j: \n",
    "\n",
    "            \n",
    "            X1 = data[features[i]]\n",
    "            X2 = data[features[j]]\n",
    "\n",
    "            X1X2 = X1*X2; EX1X2 = np.mean(X1X2)\n",
    "            # print ('X1X2:',X1X2,'E[X1X2]:',EX1X2)\n",
    "            mu1 = np.mean(X1); sigma1sq = np.var(X1); sigma1 = np.sqrt(sigma1sq); _sigma1 = np.std(X1)\n",
    "            mu2 = np.mean(X2); sigma2sq = np.var(X2); sigma2 = np.sqrt(sigma2sq); _sigma2 = np.std(X2)\n",
    "            # print ('mu1:',mu1,'sigma1sq:',sigma1sq,'sigma1:',sigma1,'_sigma1:',_sigma1)\n",
    "            # print ('mu2:',mu2,'sigma2sq:',sigma2sq,'sigma2:',sigma2,'_sigma2:',_sigma2)\n",
    "            sigma12 = EX1X2-mu1*mu2\n",
    "            rou12 = sigma12/sigma1/sigma2\n",
    "            # print ('sigma12:',sigma12,'rou12:',rou12)\n",
    "            corrcoef12 = np.corrcoef(X1, X2)\n",
    "            _rou12 = corrcoef12[0,1]\n",
    "            print ('The correlation coef. of Z scores',i+1,j+1,' are :',_rou12)"
   ]
  },
  {
   "cell_type": "code",
   "execution_count": 55,
   "metadata": {},
   "outputs": [
    {
     "name": "stdout",
     "output_type": "stream",
     "text": [
      "X1X2: [10 24 50 44 84] E[X1X2]: 42.4\n",
      "mu1: 4.0 sigma1sq: 2.0 sigma1: 1.4142135623730951 _sigma1: 1.4142135623730951\n",
      "mu2: 9.6 sigma2sq: 9.040000000000001 sigma2: 3.006659275674582 _sigma2: 3.006659275674582\n",
      "sigma12: 4.0 rou12: 0.9407208683835971\n",
      "corrcoef12:\n",
      "[[1.         0.94072087]\n",
      " [0.94072087 1.        ]]\n",
      "_rou12: 0.9407208683835973\n"
     ]
    }
   ],
   "source": [
    "# X1 = np.array([2, 3, 5, 4, 6])\n",
    "# X2 = np.array([5, 8, 10, 11, 14])\n",
    "# X1X2 = X1*X2; EX1X2 = np.mean(X1X2)\n",
    "# print ('X1X2:',X1X2,'E[X1X2]:',EX1X2)\n",
    "# mu1 = np.mean(X1); sigma1sq = np.var(X1); sigma1 = np.sqrt(sigma1sq); _sigma1 = np.std(X1)\n",
    "# mu2 = np.mean(X2); sigma2sq = np.var(X2); sigma2 = np.sqrt(sigma2sq); _sigma2 = np.std(X2)\n",
    "# print ('mu1:',mu1,'sigma1sq:',sigma1sq,'sigma1:',sigma1,'_sigma1:',_sigma1)\n",
    "# print ('mu2:',mu2,'sigma2sq:',sigma2sq,'sigma2:',sigma2,'_sigma2:',_sigma2)\n",
    "# sigma12 = EX1X2-mu1*mu2\n",
    "# rou12 = sigma12/sigma1/sigma2\n",
    "# print ('sigma12:',sigma12,'rou12:',rou12)\n",
    "# corrcoef12 = np.corrcoef(X1, X2)\n",
    "# _rou12 = corrcoef12[0,1]\n",
    "# print ('corrcoef12:')\n",
    "# print (corrcoef12)\n",
    "# print ('_rou12:',_rou12)"
   ]
  },
  {
   "cell_type": "code",
   "execution_count": null,
   "metadata": {},
   "outputs": [],
   "source": []
  }
 ],
 "metadata": {
  "kernelspec": {
   "display_name": "Python 3",
   "language": "python",
   "name": "python3"
  },
  "language_info": {
   "codemirror_mode": {
    "name": "ipython",
    "version": 3
   },
   "file_extension": ".py",
   "mimetype": "text/x-python",
   "name": "python",
   "nbconvert_exporter": "python",
   "pygments_lexer": "ipython3",
   "version": "3.7.3"
  }
 },
 "nbformat": 4,
 "nbformat_minor": 2
}
