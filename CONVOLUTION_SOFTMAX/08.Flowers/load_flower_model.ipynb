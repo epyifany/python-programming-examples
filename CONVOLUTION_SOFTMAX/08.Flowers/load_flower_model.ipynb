{
 "cells": [
  {
   "cell_type": "code",
   "execution_count": null,
   "metadata": {},
   "outputs": [],
   "source": [
    "# -*- coding: utf-8 -*-\n",
    "\n",
    "\n",
    "from keras.models import load_model\n",
    "from keras.preprocessing import image\n",
    "from termcolor import colored\n",
    "import matplotlib.pyplot as plt\n",
    "import numpy as np\n",
    "import os\n",
    "\n",
    "model=load_model('flower_model_cnn_50epochs.h5')  # path to model from current working directory\n",
    "model.summary()\n",
    "\n",
    "#for layer in model.layers:\n",
    "#    weights = layer.get_weights() # list of numpy arrays\n",
    "#    print(weights)\n",
    "\n",
    "def test_image(filename):\n",
    "    img = image.load_img(filename)\n",
    "   \n",
    "    plt.imshow(img)    # display image\n",
    "    plt.show()\n",
    "\n",
    "    img_tensor = image.img_to_array(img)   # creates tensor\n",
    "    img_tensor = img_tensor.astype('float32') / 255.  # divides each element by 255 so it is between 0 and 1\n",
    "\n",
    "    img_tensor = img_tensor.reshape(1,128,128,3) # size of input tensor\n",
    "\n",
    "    y = model.predict(img_tensor)\n",
    "    \n",
    "    y1 = y[0]\n",
    "    print('y', y)\n",
    "    print('y1', int(y1[0]))\n",
    "    \n",
    "    # Dictionary of all 10 flower classes \n",
    "    flowers_dict = {0:'phlox', 1:'rose', 2:'calendula', 3:'iris', 4:'leucanthemum maximum',\n",
    "                5:'bellflower', 6:'viola', 7:'rudbeckia', 8:'peony', 9:'aquilegia'}\n",
    "    \n",
    "    print('Prediction: {} '.format(flowers_dict[np.argmax(y)]))\n",
    "    if filename.startswith('test_flowers/' + str(np.argmax(y))):\n",
    "        print(colored('Correct', 'green'))\n",
    "    else:\n",
    "        print('Label:', flowers_dict[int(filename[13])])\n",
    "        print(colored('Incorrect', 'red'))\n",
    "    print('   Class probabilities > 1%')\n",
    "    for i in range(10):\n",
    "        percent = float(round(100* y[0][i], 2))\n",
    "        if percent >= 1:\n",
    "            print('{}: {}%'.format(flowers_dict[i] ,percent))   \n",
    "\n",
    "for filename in os.listdir('test_flowers'):\n",
    "    if filename.endswith(\".jpg\") or filename.endswith(\".jpeg\"): \n",
    "        test_image('test_flowers/' + filename)"
   ]
  }
 ],
 "metadata": {
  "kernelspec": {
   "display_name": "Python 3",
   "language": "python",
   "name": "python3"
  },
  "language_info": {
   "codemirror_mode": {
    "name": "ipython",
    "version": 3
   },
   "file_extension": ".py",
   "mimetype": "text/x-python",
   "name": "python",
   "nbconvert_exporter": "python",
   "pygments_lexer": "ipython3",
   "version": "3.6.8"
  }
 },
 "nbformat": 4,
 "nbformat_minor": 2
}
